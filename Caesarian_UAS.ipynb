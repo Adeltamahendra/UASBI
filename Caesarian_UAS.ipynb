{
 "cells": [
  {
   "cell_type": "code",
   "execution_count": 1,
   "id": "da5ea35a",
   "metadata": {},
   "outputs": [],
   "source": [
    "import pandas as pd\n",
    "import numpy as np"
   ]
  },
  {
   "cell_type": "code",
   "execution_count": 4,
   "id": "77dbfb37",
   "metadata": {},
   "outputs": [],
   "source": [
    "caesarian_df = pd.read_excel(\"D:/!Delpijozz 22/!KULIAH STIMATA/Perkuliahan 2/8 Kecerdasan Bisnis/UAS/caesarian.xlsx\",\n",
    "                            usecols=['Usia', 'Kelahiran_ke-', 'Waktu_Kelahiran', 'Tekanan_darah', 'Kelainan_jantung', 'Caesarian'], dtype={'Usia': 'int32', 'Kelahiran_ke-': 'int32', 'Waktu_Kelahiran': 'str', 'Tekanan_darah': 'str', 'Kelainan_jantung': 'str', 'Caesarian': 'str'})"
   ]
  },
  {
   "cell_type": "code",
   "execution_count": 5,
   "id": "a14431eb",
   "metadata": {},
   "outputs": [
    {
     "data": {
      "text/html": [
       "<div>\n",
       "<style scoped>\n",
       "    .dataframe tbody tr th:only-of-type {\n",
       "        vertical-align: middle;\n",
       "    }\n",
       "\n",
       "    .dataframe tbody tr th {\n",
       "        vertical-align: top;\n",
       "    }\n",
       "\n",
       "    .dataframe thead th {\n",
       "        text-align: right;\n",
       "    }\n",
       "</style>\n",
       "<table border=\"1\" class=\"dataframe\">\n",
       "  <thead>\n",
       "    <tr style=\"text-align: right;\">\n",
       "      <th></th>\n",
       "      <th>Usia</th>\n",
       "      <th>Kelahiran_ke-</th>\n",
       "      <th>Waktu_Kelahiran</th>\n",
       "      <th>Tekanan_darah</th>\n",
       "      <th>Kelainan_jantung</th>\n",
       "      <th>Caesarian</th>\n",
       "    </tr>\n",
       "  </thead>\n",
       "  <tbody>\n",
       "    <tr>\n",
       "      <th>0</th>\n",
       "      <td>22</td>\n",
       "      <td>1</td>\n",
       "      <td>sesuai HPL</td>\n",
       "      <td>Tinggi</td>\n",
       "      <td>Normal</td>\n",
       "      <td>Normal</td>\n",
       "    </tr>\n",
       "    <tr>\n",
       "      <th>1</th>\n",
       "      <td>26</td>\n",
       "      <td>2</td>\n",
       "      <td>sesuai HPL</td>\n",
       "      <td>Normal</td>\n",
       "      <td>Normal</td>\n",
       "      <td>caesarian</td>\n",
       "    </tr>\n",
       "    <tr>\n",
       "      <th>2</th>\n",
       "      <td>26</td>\n",
       "      <td>2</td>\n",
       "      <td>Prematur</td>\n",
       "      <td>Normal</td>\n",
       "      <td>Normal</td>\n",
       "      <td>Normal</td>\n",
       "    </tr>\n",
       "    <tr>\n",
       "      <th>3</th>\n",
       "      <td>28</td>\n",
       "      <td>1</td>\n",
       "      <td>sesuai HPL</td>\n",
       "      <td>Tinggi</td>\n",
       "      <td>Normal</td>\n",
       "      <td>Normal</td>\n",
       "    </tr>\n",
       "    <tr>\n",
       "      <th>4</th>\n",
       "      <td>22</td>\n",
       "      <td>2</td>\n",
       "      <td>sesuai HPL</td>\n",
       "      <td>Normal</td>\n",
       "      <td>Normal</td>\n",
       "      <td>caesarian</td>\n",
       "    </tr>\n",
       "  </tbody>\n",
       "</table>\n",
       "</div>"
      ],
      "text/plain": [
       "   Usia  Kelahiran_ke- Waktu_Kelahiran Tekanan_darah Kelainan_jantung  \\\n",
       "0    22              1      sesuai HPL        Tinggi           Normal   \n",
       "1    26              2      sesuai HPL        Normal           Normal   \n",
       "2    26              2        Prematur        Normal           Normal   \n",
       "3    28              1      sesuai HPL        Tinggi           Normal   \n",
       "4    22              2      sesuai HPL        Normal           Normal   \n",
       "\n",
       "   Caesarian  \n",
       "0     Normal  \n",
       "1  caesarian  \n",
       "2     Normal  \n",
       "3     Normal  \n",
       "4  caesarian  "
      ]
     },
     "execution_count": 5,
     "metadata": {},
     "output_type": "execute_result"
    }
   ],
   "source": [
    "caesarian_df.head()"
   ]
  },
  {
   "cell_type": "code",
   "execution_count": 6,
   "id": "613b8990",
   "metadata": {},
   "outputs": [
    {
     "data": {
      "text/plain": [
       "(80, 6)"
      ]
     },
     "execution_count": 6,
     "metadata": {},
     "output_type": "execute_result"
    }
   ],
   "source": [
    "caesarian_df.shape"
   ]
  },
  {
   "cell_type": "code",
   "execution_count": 7,
   "id": "3f54de00",
   "metadata": {},
   "outputs": [
    {
     "ename": "NameError",
     "evalue": "name 'caesarian_features_df' is not defined",
     "output_type": "error",
     "traceback": [
      "\u001b[1;31m---------------------------------------------------------------------------\u001b[0m",
      "\u001b[1;31mNameError\u001b[0m                                 Traceback (most recent call last)",
      "Cell \u001b[1;32mIn[7], line 2\u001b[0m\n\u001b[0;32m      1\u001b[0m \u001b[38;5;28;01mfrom\u001b[39;00m \u001b[38;5;21;01mscipy\u001b[39;00m\u001b[38;5;21;01m.\u001b[39;00m\u001b[38;5;21;01msparse\u001b[39;00m \u001b[38;5;28;01mimport\u001b[39;00m csr_matrix\n\u001b[1;32m----> 2\u001b[0m caesarian_features_df_matrix \u001b[38;5;241m=\u001b[39m csr_matrix(caesarian_features_df\u001b[38;5;241m.\u001b[39mvalues)\n\u001b[0;32m      3\u001b[0m \u001b[38;5;28;01mfrom\u001b[39;00m \u001b[38;5;21;01msklearn\u001b[39;00m\u001b[38;5;21;01m.\u001b[39;00m\u001b[38;5;21;01mneighbors\u001b[39;00m \u001b[38;5;28;01mimport\u001b[39;00m NearestNeighbors\n\u001b[0;32m      4\u001b[0m model_knn \u001b[38;5;241m=\u001b[39m NearestNeighbors(metric \u001b[38;5;241m=\u001b[39m \u001b[38;5;124m'\u001b[39m\u001b[38;5;124mcosine\u001b[39m\u001b[38;5;124m'\u001b[39m, algoritm\u001b[38;5;241m=\u001b[39m \u001b[38;5;124m'\u001b[39m\u001b[38;5;124mbrute\u001b[39m\u001b[38;5;124m'\u001b[39m)\n",
      "\u001b[1;31mNameError\u001b[0m: name 'caesarian_features_df' is not defined"
     ]
    }
   ],
   "source": [
    "from scipy.sparse import csr_matrix\n",
    "\n",
    "caesarian_features_df_matrix = csr_matrix(caesarian_features_df.values)\n",
    "\n",
    "from sklearn.neighbors import NearestNeighbors\n",
    "\n",
    "model_knn = NearestNeighbors(metric = 'cosine', algoritm= 'brute')\n",
    "model_knn.fit(caesarian_features_df_matrix)"
   ]
  },
  {
   "cell_type": "code",
   "execution_count": null,
   "id": "1ca66d51",
   "metadata": {},
   "outputs": [],
   "source": []
  }
 ],
 "metadata": {
  "kernelspec": {
   "display_name": "Python 3 (ipykernel)",
   "language": "python",
   "name": "python3"
  },
  "language_info": {
   "codemirror_mode": {
    "name": "ipython",
    "version": 3
   },
   "file_extension": ".py",
   "mimetype": "text/x-python",
   "name": "python",
   "nbconvert_exporter": "python",
   "pygments_lexer": "ipython3",
   "version": "3.11.5"
  }
 },
 "nbformat": 4,
 "nbformat_minor": 5
}
